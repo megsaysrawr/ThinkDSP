{
 "metadata": {
  "name": "",
  "signature": "sha256:4779e8c79da74c1fdd292c549dbd43f8f48e38d20b21bcc140de954f8e5658da"
 },
 "nbformat": 3,
 "nbformat_minor": 0,
 "worksheets": [
  {
   "cells": [
    {
     "cell_type": "markdown",
     "metadata": {},
     "source": [
      "ThinkDSP, by Allen Downey\n",
      "\n",
      "Starter code for Problem Set 3."
     ]
    },
    {
     "cell_type": "code",
     "collapsed": false,
     "input": [
      "from __future__ import print_function, division\n",
      "\n",
      "import thinkdsp\n",
      "import thinkplot\n",
      "import numpy\n",
      "import math\n",
      "import pandas\n",
      "import scipy.fftpack\n",
      "\n",
      "import dct\n",
      "\n",
      "PI2 = 2 * math.pi\n",
      "\n",
      "%matplotlib inline"
     ],
     "language": "python",
     "metadata": {},
     "outputs": [],
     "prompt_number": 2
    },
    {
     "cell_type": "code",
     "collapsed": false,
     "input": [
      "signal = thinkdsp.UncorrelatedGaussianNoise()\n",
      "noise = signal.make_wave(duration=1.0)\n",
      "\n",
      "ns = 2 ** numpy.arange(4, 12)\n",
      "print(ns)"
     ],
     "language": "python",
     "metadata": {},
     "outputs": [
      {
       "output_type": "stream",
       "stream": "stdout",
       "text": [
        "[  16   32   64  128  256  512 1024 2048]\n"
       ]
      }
     ],
     "prompt_number": 3
    },
    {
     "cell_type": "code",
     "collapsed": false,
     "input": [
      "results = []\n",
      "for N in ns:\n",
      "    ts = (0.5 + numpy.arange(N)) / N\n",
      "    freqs = (0.5 + numpy.arange(N)) / 2\n",
      "    ys = noise.ys[:N]\n",
      "    result = %timeit -o dct.analyze1(ys, freqs, ts)\n",
      "    results.append(result)"
     ],
     "language": "python",
     "metadata": {},
     "outputs": [
      {
       "output_type": "stream",
       "stream": "stdout",
       "text": [
        "10000 loops, best of 3: 41.9 \u00b5s per loop\n",
        "10000 loops, best of 3: 66.4 \u00b5s per loop"
       ]
      },
      {
       "output_type": "stream",
       "stream": "stdout",
       "text": [
        "\n",
        "10000 loops, best of 3: 153 \u00b5s per loop"
       ]
      },
      {
       "output_type": "stream",
       "stream": "stdout",
       "text": [
        "\n",
        "1000 loops, best of 3: 540 \u00b5s per loop"
       ]
      },
      {
       "output_type": "stream",
       "stream": "stdout",
       "text": [
        "\n",
        "100 loops, best of 3: 2.02 ms per loop"
       ]
      },
      {
       "output_type": "stream",
       "stream": "stdout",
       "text": [
        "\n",
        "100 loops, best of 3: 12 ms per loop"
       ]
      },
      {
       "output_type": "stream",
       "stream": "stdout",
       "text": [
        "\n",
        "10 loops, best of 3: 68.2 ms per loop"
       ]
      },
      {
       "output_type": "stream",
       "stream": "stdout",
       "text": [
        "\n",
        "1 loops, best of 3: 387 ms per loop"
       ]
      },
      {
       "output_type": "stream",
       "stream": "stdout",
       "text": [
        "\n"
       ]
      }
     ],
     "prompt_number": 4
    },
    {
     "cell_type": "code",
     "collapsed": false,
     "input": [
      "bests = [result.best for result in results]\n",
      "bests"
     ],
     "language": "python",
     "metadata": {},
     "outputs": [
      {
       "metadata": {},
       "output_type": "pyout",
       "prompt_number": 5,
       "text": [
        "[4.194481798385967e-05,\n",
        " 6.642600341133655e-05,\n",
        " 0.00015262580801797646,\n",
        " 0.0005401588829499247,\n",
        " 0.0020191229351602933,\n",
        " 0.01195945365194845,\n",
        " 0.06820395971184787,\n",
        " 0.38743085811107036]"
       ]
      }
     ],
     "prompt_number": 5
    },
    {
     "cell_type": "code",
     "collapsed": false,
     "input": [
      "thinkplot.plot(ns, bests)\n",
      "thinkplot.config(xscale='log', yscale='log')"
     ],
     "language": "python",
     "metadata": {},
     "outputs": [
      {
       "output_type": "stream",
       "stream": "stderr",
       "text": [
        "c:\\Anaconda\\lib\\site-packages\\matplotlib\\axes\\_axes.py:475: UserWarning: No labelled objects found. Use label='...' kwarg on individual plots.\n",
        "  warnings.warn(\"No labelled objects found. \"\n"
       ]
      },
      {
       "metadata": {},
       "output_type": "display_data",
       "png": "[encoded data removed]",
       "text": [
        "<matplotlib.figure.Figure at 0x42e2f28>"
       ]
      }
     ],
     "prompt_number": 6
    },
    {
     "cell_type": "code",
     "collapsed": false,
     "input": [
      "x = numpy.log(ns)\n",
      "y = numpy.log(bests)\n",
      "t = scipy.stats.linregress(x,y)\n",
      "t"
     ],
     "language": "python",
     "metadata": {},
     "outputs": [
      {
       "metadata": {},
       "output_type": "pyout",
       "prompt_number": 7,
       "text": [
        "(1.9405936691526431,\n",
        " -16.372695475948806,\n",
        " 0.98570950766982712,\n",
        " 7.2179720218826729e-06,\n",
        " 0.13539152895591466)"
       ]
      }
     ],
     "prompt_number": 7
    },
    {
     "cell_type": "code",
     "collapsed": false,
     "input": [],
     "language": "python",
     "metadata": {},
     "outputs": [],
     "prompt_number": 7
    }
   ],
   "metadata": {}
  }
 ]
}