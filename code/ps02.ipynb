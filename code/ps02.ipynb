{
 "metadata": {
  "name": "",
  "signature": "sha256:5a3db1ee8521416a265c50f9cfe7c894af9696f6cdb0e5d00bee5f88e1cc35bb"
 },
 "nbformat": 3,
 "nbformat_minor": 0,
 "worksheets": [
  {
   "cells": [
    {
     "cell_type": "heading",
     "level": 1,
     "metadata": {},
     "source": [
      "Meg McCauley, \n",
      "Signals and Systems, \n",
      "Problem Set 2, \n",
      "February 5, 2015"
     ]
    },
    {
     "cell_type": "code",
     "collapsed": false,
     "input": [
      "from __future__ import print_function, division\n",
      "\n",
      "import thinkdsp\n",
      "import thinkplot\n",
      "\n",
      "%matplotlib inline"
     ],
     "language": "python",
     "metadata": {},
     "outputs": [],
     "prompt_number": 1
    },
    {
     "cell_type": "heading",
     "level": 2,
     "metadata": {},
     "source": [
      "Question 1"
     ]
    },
    {
     "cell_type": "markdown",
     "metadata": {},
     "source": [
      "Run and listen to the examples in chap03.ipynb. In the leakage example, try replacing the Hamming window with one of the other windows provided by NumPy, and see what effect they have on leakage."
     ]
    },
    {
     "cell_type": "markdown",
     "metadata": {},
     "source": [
      "Hamming Windowing"
     ]
    },
    {
     "cell_type": "code",
     "collapsed": false,
     "input": [
      "signal = thinkdsp.SinSignal(freq=440)\n",
      "duration = signal.period * 30\n",
      "wave = signal.make_wave(duration)\n",
      "wave.hamming()\n",
      "spectrum = wave.make_spectrum()\n",
      "spectrum.plot(high=50)\n",
      "thinkplot.config(xlabel='frequency (Hz)', ylabel='amplitude', legend=False)"
     ],
     "language": "python",
     "metadata": {},
     "outputs": [
      {
       "metadata": {},
       "output_type": "display_data",
       "png": "[encoded data removed]",
       "text": [
        "<matplotlib.figure.Figure at 0x1498fe80>"
       ]
      }
     ],
     "prompt_number": 2
    },
    {
     "cell_type": "markdown",
     "metadata": {},
     "source": [
      "Bartlett Windowing"
     ]
    },
    {
     "cell_type": "code",
     "collapsed": false,
     "input": [
      "signal = thinkdsp.SinSignal(freq=440)\n",
      "duration = signal.period * 30\n",
      "wave2 = signal.make_wave(duration)\n",
      "wave2.bartlett()\n",
      "spectrum = wave2.make_spectrum()\n",
      "spectrum.plot(high=50)\n",
      "thinkplot.config(xlabel='frequency (Hz)', ylabel='amplitude', legend=False)"
     ],
     "language": "python",
     "metadata": {},
     "outputs": [
      {
       "metadata": {},
       "output_type": "display_data",
       "png": "[encoded data removed]",
       "text": [
        "<matplotlib.figure.Figure at 0x14a44320>"
       ]
      }
     ],
     "prompt_number": 3
    },
    {
     "cell_type": "markdown",
     "metadata": {},
     "source": [
      "The Bartlett windowing technique had more leakage than the Hamming technique did. You can see this in the slight peaks that occur for 100 Hz on either side of the main peak."
     ]
    },
    {
     "cell_type": "heading",
     "level": 2,
     "metadata": {},
     "source": [
      "Question 2"
     ]
    },
    {
     "cell_type": "markdown",
     "metadata": {},
     "source": [
      "Write a class called SawtoothChirp that extends Chirp and overrides evaluate to generate a sawtooth waveform with frequency that increases (or decreases) linearly.\n",
      "\n",
      "Hint: combine the evaluate functions from Chirp and SawtoothSignal.\n",
      "\n",
      "Plot the spectrogram of this signal. The effect of aliasing should be visible, and if you listen carefully, you can hear it."
     ]
    },
    {
     "cell_type": "code",
     "collapsed": false,
     "input": [
      "##This doesn't work yet. Check out thinkdsp.py lines 1104 and 1190.\n",
      "class SawtoothChirp(thinkdsp.Chirp):\n",
      "    def evaluate():\n",
      "        T = self.period\n",
      "        return (((((ts-self.offset)%T)/T)*2)-1)*self.amp"
     ],
     "language": "python",
     "metadata": {},
     "outputs": [],
     "prompt_number": 4
    },
    {
     "cell_type": "code",
     "collapsed": false,
     "input": [
      "#This is waiting for the previous block to work before implementation can properly occur (Also, I think it's broken...)\n",
      "\n",
      "sawchirp = SawtoothChirp(start=220, end=440)\n",
      "sawwave = sawchirp.make_wave(duration=1)\n",
      "sawspec = sawwave.make_spectrogram()\n",
      "sawspec.plot()"
     ],
     "language": "python",
     "metadata": {},
     "outputs": [
      {
       "ename": "TypeError",
       "evalue": "evaluate() takes no arguments (2 given)",
       "output_type": "pyerr",
       "traceback": [
        "\u001b[1;31m---------------------------------------------------------------------------\u001b[0m\n\u001b[1;31mTypeError\u001b[0m                                 Traceback (most recent call last)",
        "\u001b[1;32m<ipython-input-5-329ec6d1b07c>\u001b[0m in \u001b[0;36m<module>\u001b[1;34m()\u001b[0m\n\u001b[0;32m      2\u001b[0m \u001b[1;33m\u001b[0m\u001b[0m\n\u001b[0;32m      3\u001b[0m \u001b[0msawchirp\u001b[0m \u001b[1;33m=\u001b[0m \u001b[0mSawtoothChirp\u001b[0m\u001b[1;33m(\u001b[0m\u001b[0mstart\u001b[0m\u001b[1;33m=\u001b[0m\u001b[1;36m220\u001b[0m\u001b[1;33m,\u001b[0m \u001b[0mend\u001b[0m\u001b[1;33m=\u001b[0m\u001b[1;36m440\u001b[0m\u001b[1;33m)\u001b[0m\u001b[1;33m\u001b[0m\u001b[0m\n\u001b[1;32m----> 4\u001b[1;33m \u001b[0msawwave\u001b[0m \u001b[1;33m=\u001b[0m \u001b[0msawchirp\u001b[0m\u001b[1;33m.\u001b[0m\u001b[0mmake_wave\u001b[0m\u001b[1;33m(\u001b[0m\u001b[0mduration\u001b[0m\u001b[1;33m=\u001b[0m\u001b[1;36m1\u001b[0m\u001b[1;33m)\u001b[0m\u001b[1;33m\u001b[0m\u001b[0m\n\u001b[0m\u001b[0;32m      5\u001b[0m \u001b[0msawspec\u001b[0m \u001b[1;33m=\u001b[0m \u001b[0msawwave\u001b[0m\u001b[1;33m.\u001b[0m\u001b[0mmake_spectrogram\u001b[0m\u001b[1;33m(\u001b[0m\u001b[1;33m)\u001b[0m\u001b[1;33m\u001b[0m\u001b[0m\n\u001b[0;32m      6\u001b[0m \u001b[0msawspec\u001b[0m\u001b[1;33m.\u001b[0m\u001b[0mplot\u001b[0m\u001b[1;33m(\u001b[0m\u001b[1;33m)\u001b[0m\u001b[1;33m\u001b[0m\u001b[0m\n",
        "\u001b[1;32mc:\\Users\\mmccauley\\Documents\\GitHub\\ThinkDSP\\code\\thinkdsp.pyc\u001b[0m in \u001b[0;36mmake_wave\u001b[1;34m(self, duration, start, framerate)\u001b[0m\n\u001b[0;32m    956\u001b[0m         \u001b[0mdt\u001b[0m \u001b[1;33m=\u001b[0m \u001b[1;36m1.0\u001b[0m \u001b[1;33m/\u001b[0m \u001b[0mframerate\u001b[0m\u001b[1;33m\u001b[0m\u001b[0m\n\u001b[0;32m    957\u001b[0m         \u001b[0mts\u001b[0m \u001b[1;33m=\u001b[0m \u001b[0mnumpy\u001b[0m\u001b[1;33m.\u001b[0m\u001b[0marange\u001b[0m\u001b[1;33m(\u001b[0m\u001b[0mstart\u001b[0m\u001b[1;33m,\u001b[0m \u001b[0mduration\u001b[0m\u001b[1;33m,\u001b[0m \u001b[0mdt\u001b[0m\u001b[1;33m)\u001b[0m\u001b[1;33m\u001b[0m\u001b[0m\n\u001b[1;32m--> 958\u001b[1;33m         \u001b[0mys\u001b[0m \u001b[1;33m=\u001b[0m \u001b[0mself\u001b[0m\u001b[1;33m.\u001b[0m\u001b[0mevaluate\u001b[0m\u001b[1;33m(\u001b[0m\u001b[0mts\u001b[0m\u001b[1;33m)\u001b[0m\u001b[1;33m\u001b[0m\u001b[0m\n\u001b[0m\u001b[0;32m    959\u001b[0m         \u001b[1;32mreturn\u001b[0m \u001b[0mWave\u001b[0m\u001b[1;33m(\u001b[0m\u001b[0mys\u001b[0m\u001b[1;33m,\u001b[0m \u001b[0mframerate\u001b[0m\u001b[1;33m=\u001b[0m\u001b[0mframerate\u001b[0m\u001b[1;33m,\u001b[0m \u001b[0mstart\u001b[0m\u001b[1;33m=\u001b[0m\u001b[0mstart\u001b[0m\u001b[1;33m)\u001b[0m\u001b[1;33m\u001b[0m\u001b[0m\n\u001b[0;32m    960\u001b[0m \u001b[1;33m\u001b[0m\u001b[0m\n",
        "\u001b[1;31mTypeError\u001b[0m: evaluate() takes no arguments (2 given)"
       ]
      }
     ],
     "prompt_number": 5
    },
    {
     "cell_type": "heading",
     "level": 2,
     "metadata": {},
     "source": [
      "Question 3"
     ]
    },
    {
     "cell_type": "markdown",
     "metadata": {},
     "source": [
      "In musical terminology, a \u201cglissando\u201d is a note that slides from one pitch to another, so it is similar to a chirp. A trombone player can play a glissando by extending the trombone slide while blowing continuously. As the slide extends, the total length of the tube gets longer, and the resulting pitch is inversely proportional to length.\n",
      "\n",
      "Assuming that the player moves the slide at a constant speed, how does frequency vary with time? Is a trombone glissando more like a linear or exponential chirp?\n",
      "\n",
      "Write a function that simulates a trombone glissando from C3 up to F3 and back down to C3. C3 is 262 Hz; F3 is 349 Hz."
     ]
    },
    {
     "cell_type": "code",
     "collapsed": false,
     "input": [
      "#Code"
     ],
     "language": "python",
     "metadata": {},
     "outputs": []
    },
    {
     "cell_type": "heading",
     "level": 2,
     "metadata": {},
     "source": [
      "Question 4"
     ]
    },
    {
     "cell_type": "markdown",
     "metadata": {},
     "source": [
      "Make or find a recording of a series of vowel sounds and look at the spectrogram. Can you identify different vowels?"
     ]
    },
    {
     "cell_type": "code",
     "collapsed": false,
     "input": [
      "#Code"
     ],
     "language": "python",
     "metadata": {},
     "outputs": []
    },
    {
     "cell_type": "heading",
     "level": 2,
     "metadata": {},
     "source": [
      "Question 5"
     ]
    },
    {
     "cell_type": "markdown",
     "metadata": {},
     "source": [
      " \u201cA Soft Murmur\u201d is a web site that plays a mixture of natural noise sources, including rain, waves, wind, etc. At http://asoftmurmur.com/about/ you can find their list of recordings, most of which are at http://freesound.org.\n",
      "\n",
      "Download a few of these files and compute the spectrum of each signal. Does the power spectrum look like white noise, pink noise, or Brownian noise? How does the spectrum vary over time?"
     ]
    },
    {
     "cell_type": "code",
     "collapsed": false,
     "input": [
      "#Code"
     ],
     "language": "python",
     "metadata": {},
     "outputs": []
    },
    {
     "cell_type": "heading",
     "level": 2,
     "metadata": {},
     "source": [
      "Question 6"
     ]
    },
    {
     "cell_type": "markdown",
     "metadata": {},
     "source": [
      " In a white noise signal, the mixture of frequencies changes over time. In the long run, we expect the power at all frequencies to be equal, but in any sample, the power at each frequency is random.\n",
      "To estimate the long-term average power at each frequency, we can break a long signal into segments, compute the power spectral density for each segment, and then compute the average across the segments. You can read more about this algorithm at http://en.wikipedia.org/wiki/Bartlett's_method."
     ]
    },
    {
     "cell_type": "code",
     "collapsed": false,
     "input": [
      "#Code"
     ],
     "language": "python",
     "metadata": {},
     "outputs": []
    },
    {
     "cell_type": "heading",
     "level": 2,
     "metadata": {},
     "source": [
      "Question 7"
     ]
    },
    {
     "cell_type": "markdown",
     "metadata": {},
     "source": [
      "At http://www.coindesk.com you can download the daily price of a BitCoin as a CSV file.  Read this file and compute the power spectrum of BitCoin prices as a function of time. Does it resemble white, pink, or Brownian noise?"
     ]
    },
    {
     "cell_type": "code",
     "collapsed": false,
     "input": [
      "#Code"
     ],
     "language": "python",
     "metadata": {},
     "outputs": []
    }
   ],
   "metadata": {}
  }
 ]
}