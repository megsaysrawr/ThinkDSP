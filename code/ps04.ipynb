{
 "metadata": {
  "name": "",
  "signature": "sha256:78e016a68986016004206f31ed96ec22c2f45ae3ca862f826f33d46a6e995236"
 },
 "nbformat": 3,
 "nbformat_minor": 0,
 "worksheets": [
  {
   "cells": [
    {
     "cell_type": "heading",
     "level": 1,
     "metadata": {},
     "source": [
      "Meg McCauley, \n",
      "Signals and Systems, \n",
      "Problem Set 4, \n",
      "February 19, 2015"
     ]
    },
    {
     "cell_type": "code",
     "collapsed": false,
     "input": [
      "from __future__ import print_function, division\n",
      "\n",
      "import thinkdsp\n",
      "import thinkplot\n",
      "import math\n",
      "import numpy\n",
      "\n",
      "%matplotlib inline"
     ],
     "language": "python",
     "metadata": {},
     "outputs": [],
     "prompt_number": 14
    },
    {
     "cell_type": "heading",
     "level": 2,
     "metadata": {},
     "source": [
      "Question 1"
     ]
    },
    {
     "cell_type": "markdown",
     "metadata": {},
     "source": [
      "Please finish this exercise that we started in class: One of the examples in chap07.ipynb compares two mixtures of complex sinusoids, one with offset=0 and one with offset=1.  The result is a different looking waveform, because \"rotating\" each component by the same phase offset does not shift each component by the same amount of time.\n",
      "\n",
      "Can you construct a vector of complex amplitudes that shifts all components by the same amount of time?"
     ]
    },
    {
     "cell_type": "heading",
     "level": 4,
     "metadata": {},
     "source": [
      "Exercise from Allen's chap07"
     ]
    },
    {
     "cell_type": "code",
     "collapsed": false,
     "input": [
      "def synthesize1(amps, freqs, ts):\n",
      "    components = [thinkdsp.ComplexSinusoid(freq, amp)\n",
      "                  for amp, freq in zip(amps, freqs)]\n",
      "    signal = thinkdsp.SumSignal(*components)\n",
      "    ys = signal.evaluate(ts)\n",
      "    return ys\n",
      "\n",
      "amps = numpy.array([0.6, 0.25, 0.1, 0.05])\n",
      "freqs = [100, 200, 300, 400]\n",
      "framerate = 11025\n",
      "ts = numpy.linspace(0, 1, framerate)\n",
      "ys = synthesize1(amps, freqs, ts)\n",
      "\n",
      "PI2 = 2 * math.pi\n",
      "i = complex(0, 1)\n",
      "amps = numpy.array([0.6, 0.25, 0.1, 0.05])\n",
      "\n",
      "def synthesize2(amps, freqs, ts):\n",
      "    args = numpy.outer(ts, freqs)\n",
      "    M = numpy.exp(i * PI2 * args)\n",
      "    ys = numpy.dot(M, amps)\n",
      "    return ys\n",
      "\n",
      "ys = synthesize2(amps, freqs, ts)\n",
      "\n",
      "wave = thinkdsp.Wave(ys.real, framerate)\n",
      "\n",
      "amps2 = amps * numpy.exp(1j)\n",
      "ys2 = synthesize2(amps2, freqs, ts)\n",
      "\n",
      "n=400\n",
      "thinkplot.plot(ts[:n], ys.real[:n], label=r'$\\phi_0 = 0$')\n",
      "thinkplot.plot(ts[:n], ys2.real[:n], label=r'$\\phi_0 = 1$')\n",
      "thinkplot.config(ylim=[-1.15, 1.05])"
     ],
     "language": "python",
     "metadata": {},
     "outputs": [
      {
       "metadata": {},
       "output_type": "display_data",
       "png": "[encoded data removed]",
       "text": [
        "<matplotlib.figure.Figure at 0x14a09d30>"
       ]
      }
     ],
     "prompt_number": 18
    },
    {
     "cell_type": "markdown",
     "metadata": {},
     "source": [
      "Using the formula $Be^{i(2\\pi ft+\\phi _o)}$, build a series of vector of complex amplitudes. In order to shift them each the same amount of time, you need to find a value of $Ae^\\phi$ that creates a constant time shift."
     ]
    },
    {
     "cell_type": "heading",
     "level": 2,
     "metadata": {},
     "source": [
      "Question 2"
     ]
    },
    {
     "cell_type": "markdown",
     "metadata": {},
     "source": [
      " In Chapter 7 I represented the DFT as matrix multiplication, but the more common presentation is as a summation:\n",
      " \n",
      "From http://en.wikipedia.org/wiki/Discrete_Fourier_transform\n",
      "\n",
      "Read the Wikipedia page on DFT.  Write an implementation of DFT based on this summation and compare your results to my implementation and/or numpy.fft.fft."
     ]
    },
    {
     "cell_type": "code",
     "collapsed": false,
     "input": [
      "def dct_summation(ys):\n",
      "    i = complex(0, 1)\n",
      "    N = len(ys)\n",
      "    ts = numpy.arange(N) / N\n",
      "    freqs = numpy.arange(N)\n",
      "    args = numpy.outer(ts, freqs)\n",
      "    M = numpy.exp(i * PI2 * args)\n",
      "    amps = M.conj().transpose().dot(ys)\n",
      "    return amps\n",
      "derp = dct_summation(ys)"
     ],
     "language": "python",
     "metadata": {},
     "outputs": [],
     "prompt_number": 5
    },
    {
     "cell_type": "heading",
     "level": 2,
     "metadata": {},
     "source": [
      "Question 3"
     ]
    },
    {
     "cell_type": "markdown",
     "metadata": {},
     "source": [
      "In Chapter 7, I showed how we can express the DFT and inverse DFT as matrix multiplications. These operations are relatively fast, taking time proportional to N2, where N is the length of the wave array. That would be fast enough for many applications, but it turns out that there is a faster algorithm, the Fast Fourier Transform (FFT), which takes time proportional to N logN.\n",
      "\n",
      "Read about the FFT at http://en.wikipedia.org/wiki/Cooley-Tukey_FFT_algorithm, and write an implementation. Hint: I suggest you write a simple version as a recursive function; don\u2019t worry about \u201cdata reordering, bit reversal, and in-place algorithms\u201d."
     ]
    },
    {
     "cell_type": "code",
     "collapsed": false,
     "input": [
      "def ditfft2(x, N, s):\n",
      "    if (N == 1):\n",
      "        return x[0]\n",
      "    else:\n",
      "        ditfft2(x, N/2, 2s)\n",
      "        ditfft2(x+2, N/2, 2s)\n",
      "        for k in range(0:N/2-1)\n",
      "            x[k] = t\n",
      "            t + exp(-math.pi*i* k/N)"
     ],
     "language": "python",
     "metadata": {},
     "outputs": [],
     "prompt_number": 6
    },
    {
     "cell_type": "heading",
     "level": 2,
     "metadata": {},
     "source": [
      "Question 4"
     ]
    },
    {
     "cell_type": "markdown",
     "metadata": {},
     "source": [
      "Using the timing code from PS03, compare the performance of my implementation of autocorr from Chapter 5, my fft_autocorr from Chapter 8, and numpy.correlate.  Can you tell whether NumPy is using the FFT algorithm?"
     ]
    },
    {
     "cell_type": "code",
     "collapsed": false,
     "input": [
      "#Code"
     ],
     "language": "python",
     "metadata": {},
     "outputs": [],
     "prompt_number": 7
    }
   ],
   "metadata": {}
  }
 ]
}