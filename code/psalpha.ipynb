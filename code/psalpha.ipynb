{
 "metadata": {
  "name": "",
  "signature": "sha256:044ed9a1da474bb89ee98c37b50ea5ffdf0cffc10ff964a99505b8b88683cd27"
 },
 "nbformat": 3,
 "nbformat_minor": 0,
 "worksheets": [
  {
   "cells": [
    {
     "cell_type": "heading",
     "level": 1,
     "metadata": {},
     "source": [
      "Meg McCauley, \n",
      "Signals and Systems, \n",
      "Problem Set #, \n",
      "Date, 2015"
     ]
    },
    {
     "cell_type": "code",
     "collapsed": false,
     "input": [
      "from __future__ import print_function, division\n",
      "\n",
      "import thinkdsp\n",
      "import thinkplot\n",
      "\n",
      "%matplotlib inline"
     ],
     "language": "python",
     "metadata": {},
     "outputs": [],
     "prompt_number": 7
    },
    {
     "cell_type": "heading",
     "level": 2,
     "metadata": {},
     "source": [
      "Question 1"
     ]
    },
    {
     "cell_type": "markdown",
     "metadata": {},
     "source": [
      "Text"
     ]
    },
    {
     "cell_type": "code",
     "collapsed": false,
     "input": [
      "#Code"
     ],
     "language": "python",
     "metadata": {},
     "outputs": [],
     "prompt_number": 12
    },
    {
     "cell_type": "heading",
     "level": 2,
     "metadata": {},
     "source": [
      "Question 2"
     ]
    },
    {
     "cell_type": "markdown",
     "metadata": {},
     "source": [
      "Text"
     ]
    },
    {
     "cell_type": "code",
     "collapsed": false,
     "input": [
      "#Code"
     ],
     "language": "python",
     "metadata": {},
     "outputs": [],
     "prompt_number": 5
    },
    {
     "cell_type": "heading",
     "level": 2,
     "metadata": {},
     "source": [
      "Question 3"
     ]
    },
    {
     "cell_type": "markdown",
     "metadata": {},
     "source": [
      "Text"
     ]
    },
    {
     "cell_type": "code",
     "collapsed": false,
     "input": [
      "#Code"
     ],
     "language": "python",
     "metadata": {},
     "outputs": [],
     "prompt_number": 5
    },
    {
     "cell_type": "heading",
     "level": 2,
     "metadata": {},
     "source": [
      "Question 4"
     ]
    },
    {
     "cell_type": "markdown",
     "metadata": {},
     "source": [
      "Text"
     ]
    },
    {
     "cell_type": "code",
     "collapsed": false,
     "input": [
      "#Code"
     ],
     "language": "python",
     "metadata": {},
     "outputs": [],
     "prompt_number": 5
    },
    {
     "cell_type": "heading",
     "level": 2,
     "metadata": {},
     "source": [
      "Question 5"
     ]
    },
    {
     "cell_type": "markdown",
     "metadata": {},
     "source": [
      "Text"
     ]
    },
    {
     "cell_type": "code",
     "collapsed": false,
     "input": [
      "#Code"
     ],
     "language": "python",
     "metadata": {},
     "outputs": [],
     "prompt_number": 5
    },
    {
     "cell_type": "heading",
     "level": 2,
     "metadata": {},
     "source": [
      "Question 6"
     ]
    },
    {
     "cell_type": "markdown",
     "metadata": {},
     "source": [
      "Text"
     ]
    },
    {
     "cell_type": "code",
     "collapsed": false,
     "input": [
      "#Code"
     ],
     "language": "python",
     "metadata": {},
     "outputs": [],
     "prompt_number": 5
    },
    {
     "cell_type": "heading",
     "level": 2,
     "metadata": {},
     "source": [
      "Question 7"
     ]
    },
    {
     "cell_type": "markdown",
     "metadata": {},
     "source": [
      "Text"
     ]
    },
    {
     "cell_type": "code",
     "collapsed": false,
     "input": [
      "#Code"
     ],
     "language": "python",
     "metadata": {},
     "outputs": [],
     "prompt_number": 5
    },
    {
     "cell_type": "heading",
     "level": 2,
     "metadata": {},
     "source": [
      "Question 8"
     ]
    },
    {
     "cell_type": "markdown",
     "metadata": {},
     "source": [
      "Text"
     ]
    },
    {
     "cell_type": "code",
     "collapsed": false,
     "input": [
      "#Code"
     ],
     "language": "python",
     "metadata": {},
     "outputs": [],
     "prompt_number": 5
    },
    {
     "cell_type": "heading",
     "level": 2,
     "metadata": {},
     "source": [
      "Question 9"
     ]
    },
    {
     "cell_type": "markdown",
     "metadata": {},
     "source": [
      "Text"
     ]
    },
    {
     "cell_type": "code",
     "collapsed": false,
     "input": [
      "#Code"
     ],
     "language": "python",
     "metadata": {},
     "outputs": [],
     "prompt_number": 5
    },
    {
     "cell_type": "heading",
     "level": 2,
     "metadata": {},
     "source": [
      "Question 10"
     ]
    },
    {
     "cell_type": "markdown",
     "metadata": {},
     "source": [
      "Text"
     ]
    },
    {
     "cell_type": "code",
     "collapsed": false,
     "input": [
      "#Code"
     ],
     "language": "python",
     "metadata": {},
     "outputs": [],
     "prompt_number": 5
    }
   ],
   "metadata": {}
  }
 ]
}